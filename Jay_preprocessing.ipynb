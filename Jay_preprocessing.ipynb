{
 "cells": [
  {
   "cell_type": "markdown",
   "id": "d29ac75a-3fc7-4a2f-be8e-74b95f17ca1a",
   "metadata": {},
   "source": [
    "# Intro to python variables\n"
   ]
  },
  {
   "cell_type": "markdown",
   "id": "16a0a09e-a98e-4991-b5a0-86e64f224388",
   "metadata": {},
   "source": [
    "1] Create and assign string variables"
   ]
  },
  {
   "cell_type": "code",
   "execution_count": 185,
   "id": "72137fbc-b1d3-4f9a-b64c-6cb921867561",
   "metadata": {},
   "outputs": [],
   "source": [
    "city_name = \"Nagpur\""
   ]
  },
  {
   "cell_type": "code",
   "execution_count": 186,
   "id": "0a6dbbea-3105-4ee2-9c0d-27e572448513",
   "metadata": {},
   "outputs": [
    {
     "name": "stdout",
     "output_type": "stream",
     "text": [
      "City Name : Nagpur\n"
     ]
    }
   ],
   "source": [
    "print(f\"City Name : {city_name}\")"
   ]
  },
  {
   "cell_type": "markdown",
   "id": "f1f68a6e-74ec-4844-a146-0ec4d83b7d2b",
   "metadata": {},
   "source": [
    "2] Create and assign integer variable"
   ]
  },
  {
   "cell_type": "code",
   "execution_count": 188,
   "id": "9a853775-710b-4142-834e-36c01ea473b9",
   "metadata": {},
   "outputs": [],
   "source": [
    "temperature = 25"
   ]
  },
  {
   "cell_type": "code",
   "execution_count": 189,
   "id": "b1f606c9-d39f-41e2-9a51-fc24851d6f53",
   "metadata": {},
   "outputs": [
    {
     "name": "stdout",
     "output_type": "stream",
     "text": [
      "temperature: 25C\n"
     ]
    }
   ],
   "source": [
    "print(f\"temperature: {temperature}C\")"
   ]
  },
  {
   "cell_type": "markdown",
   "id": "b87864b2-22fd-4a88-b9aa-1c7f7ba9b53e",
   "metadata": {},
   "source": [
    "3]Create and assign float variable"
   ]
  },
  {
   "cell_type": "code",
   "execution_count": 191,
   "id": "81fdb09b-17df-4f9f-86e0-a63ba7c87163",
   "metadata": {},
   "outputs": [],
   "source": [
    "carbon_footprint = 500.75 #kg co2"
   ]
  },
  {
   "cell_type": "code",
   "execution_count": 192,
   "id": "14054bb7-bcb2-4e5f-bf3a-46103a27da29",
   "metadata": {},
   "outputs": [
    {
     "name": "stdout",
     "output_type": "stream",
     "text": [
      "Carbon footprint : 500.75 kg CO2\n"
     ]
    }
   ],
   "source": [
    "print(f\"Carbon footprint : {carbon_footprint} kg CO2\")"
   ]
  },
  {
   "cell_type": "markdown",
   "id": "f698b6d5-9ac1-454b-8291-ce639fce4578",
   "metadata": {},
   "source": [
    "4] Create and assign boolean variables"
   ]
  },
  {
   "cell_type": "code",
   "execution_count": 194,
   "id": "447efbe3-2a4d-40d4-84d7-2f7ad992aa07",
   "metadata": {},
   "outputs": [],
   "source": [
    "is_sustainable = carbon_footprint < 400 "
   ]
  },
  {
   "cell_type": "code",
   "execution_count": 195,
   "id": "562e23d4-a2c1-4e99-a3b7-36ed6cfa4a68",
   "metadata": {},
   "outputs": [
    {
     "name": "stdout",
     "output_type": "stream",
     "text": [
      "Is the city sustainable? False\n"
     ]
    }
   ],
   "source": [
    "print(f\"Is the city sustainable? {is_sustainable}\")"
   ]
  },
  {
   "cell_type": "markdown",
   "id": "402713d2-5bff-4ae0-803d-ebe6c85a788b",
   "metadata": {},
   "source": [
    "5] Crerte and assign list of variables"
   ]
  },
  {
   "cell_type": "code",
   "execution_count": 197,
   "id": "3966dabe-6028-4d21-89ab-3a61d40461e4",
   "metadata": {},
   "outputs": [],
   "source": [
    "weekly_temperature = [25,24,34,29]"
   ]
  },
  {
   "cell_type": "markdown",
   "id": "11a86e27-3355-4b97-be3b-2ee6fee2eb22",
   "metadata": {},
   "source": [
    "print(f\"Weekly temp : {weekly_temperature}\")"
   ]
  },
  {
   "cell_type": "markdown",
   "id": "3a567b1f-d392-474f-8f88-6405facf3905",
   "metadata": {},
   "source": [
    "6]Create a dict"
   ]
  },
  {
   "cell_type": "code",
   "execution_count": null,
   "id": "d64b3a9b-16e5-455c-bda1-3a8bfc500cff",
   "metadata": {},
   "outputs": [],
   "source": []
  },
  {
   "cell_type": "code",
   "execution_count": null,
   "id": "417667d6-73ea-47a5-86d0-78901fc83adc",
   "metadata": {},
   "outputs": [],
   "source": []
  },
  {
   "cell_type": "markdown",
   "id": "aa21c061-be29-4e53-8e40-3d598e288a76",
   "metadata": {},
   "source": [
    "# To implement Control Structure"
   ]
  },
  {
   "cell_type": "code",
   "execution_count": null,
   "id": "3ed58039-162e-4e0a-b792-d460a198ef7d",
   "metadata": {},
   "outputs": [],
   "source": []
  },
  {
   "cell_type": "markdown",
   "id": "3018e7b9-b38e-41cc-a4c1-ad9ade1e2e81",
   "metadata": {},
   "source": [
    "## is input variable\n",
    "print(\"enter a varible\")\n",
    "b=input()\n",
    "if b.isdigit():\n",
    "    print(\"true\")\n",
    "else:\n",
    "    print(\"false\")"
   ]
  },
  {
   "cell_type": "markdown",
   "id": "bb2806c7-f25b-41c6-b807-4a79243c82a0",
   "metadata": {},
   "source": [
    "## calculator\n",
    "\n",
    "print(\"Calculator\")\n",
    "\n",
    "def add(a, b):\n",
    "    return a + b\n",
    "\n",
    "def subtract(a, b):\n",
    "    return a - b\n",
    "\n",
    "def multiply(a, b):\n",
    "    return a * b\n",
    "\n",
    "def divide(a, b):\n",
    "    if b != 0:\n",
    "        return a / b\n",
    "    else:\n",
    "        return \"Error!\"\n",
    "\n",
    "def calculator():\n",
    "    print(\"Welcome to the Python Calculator!\")\n",
    "    print(\"Select operation:\")\n",
    "    print(\"1. Addition (+)\")\n",
    "    print(\"2. Subtraction (-)\")\n",
    "    print(\"3. Multiplication (*)\")\n",
    "    print(\"4. Division (/)\")\n",
    "\n",
    "    while True:\n",
    "        try:\n",
    "            choice = input(\"\\nEnter your choice (1/2/3/4) or 'q' to quit: \").strip()\n",
    "            if choice.lower() == 'q':\n",
    "                print(\"Exit\")\n",
    "                break\n",
    "\n",
    "            if choice not in ['1', '2', '3', '4']:\n",
    "                print(\"Invalid choice.\")\n",
    "                continue\n",
    "\n",
    "            num1 = float(input(\"Enter the first number: \"))\n",
    "            num2 = float(input(\"Enter the second number: \"))\n",
    "\n",
    "            if choice == '1':\n",
    "                print(f\"The result is: {add(num1, num2)}\")\n",
    "            elif choice == '2':\n",
    "                print(f\"The result is: {subtract(num1, num2)}\")\n",
    "            elif choice == '3':\n",
    "                print(f\"The result is: {multiply(num1, num2)}\")\n",
    "            elif choice == '4':\n",
    "                print(f\"The result is: {divide(num1, num2)}\")\n",
    "            elif choice == '5':\n",
    "                print(f\"The result is: {power(num1, num2)}\")\n",
    "\n",
    "        except ValueError:\n",
    "            print(\"Invalid input!\")\n",
    "\n",
    "if __name__ == \"__main__\":\n",
    "    calculator()\n",
    "\n"
   ]
  },
  {
   "cell_type": "code",
   "execution_count": null,
   "id": "8793cdc4-1e2a-4be1-99dd-161c2ce7ae68",
   "metadata": {},
   "outputs": [],
   "source": []
  },
  {
   "cell_type": "code",
   "execution_count": 203,
   "id": "10dcfd81-4f9f-4794-9947-cbbb4feadd60",
   "metadata": {},
   "outputs": [],
   "source": [
    "climate_data = [\n",
    "    {\"city\": \"City A\", \"temperature\": 25, \"carbon_footprint\": 500},\n",
    "    {\"city\": \"City B\", \"temperature\": 30, \"carbon_footprint\": 350},\n",
    "    {\"city\": \"City C\", \"temperature\": 22, \"carbon_footprint\": 600},\n",
    "    {\"city\": \"City D\", \"temperature\": 15, \"carbon_footprint\": 200},\n",
    "    {\"city\": \"City E\", \"temperature\": 28, \"carbon_footprint\": 450},\n",
    "]"
   ]
  },
  {
   "cell_type": "code",
   "execution_count": 204,
   "id": "2845be24-5c68-4786-ba10-d1cc1931cde9",
   "metadata": {},
   "outputs": [
    {
     "name": "stdout",
     "output_type": "stream",
     "text": [
      "City with high temp\n",
      "City B + 30C\n",
      "City E + 28C\n"
     ]
    }
   ],
   "source": [
    "#filter city with high temp\n",
    "high_temp = 26\n",
    "high_temp_fliter = [city for city in climate_data if city [\"temperature\"] >  high_temp]\n",
    "print(\"City with high temp\")\n",
    "for city in high_temp_fliter:\n",
    "    print(f\"{city['city']} + {city[\"temperature\"]}C\")"
   ]
  },
  {
   "cell_type": "code",
   "execution_count": 205,
   "id": "223393ea-082f-4446-b108-88ae6b808da2",
   "metadata": {},
   "outputs": [
    {
     "name": "stdout",
     "output_type": "stream",
     "text": [
      "Average carbon footprint:420.0\n"
     ]
    }
   ],
   "source": [
    "#find avg of carbon footprint\n",
    "#calculate the average carbon footprint using loop\n",
    "total_carbon_footprint=0\n",
    "for city in climate_data:\n",
    "  total_carbon_footprint+=city[\"carbon_footprint\"]\n",
    "average_carbon_footprint=total_carbon_footprint/len(climate_data)\n",
    "print(f\"Average carbon footprint:{average_carbon_footprint}\")"
   ]
  },
  {
   "cell_type": "code",
   "execution_count": 206,
   "id": "2efaa2cc-954c-4c1d-93b7-ef6851cb9510",
   "metadata": {},
   "outputs": [
    {
     "data": {
      "text/plain": [
       "5"
      ]
     },
     "execution_count": 206,
     "metadata": {},
     "output_type": "execute_result"
    }
   ],
   "source": [
    "len(climate_data)"
   ]
  },
  {
   "cell_type": "code",
   "execution_count": 207,
   "id": "8c032152-ac23-4a92-952a-de7dab0313f4",
   "metadata": {},
   "outputs": [
    {
     "name": "stdout",
     "output_type": "stream",
     "text": [
      "city with highest carbon footage\n",
      "City C - 600 kg CO2\n"
     ]
    }
   ],
   "source": [
    "#fing city with highest carbon footprint\n",
    "higest_footprint = max(climate_data,key=lambda city: city[\"carbon_footprint\"])\n",
    "print(\"city with highest carbon footage\")\n",
    "print(f\"{higest_footprint['city']} - {higest_footprint['carbon_footprint']} kg CO2\")\n"
   ]
  },
  {
   "cell_type": "code",
   "execution_count": 208,
   "id": "4ef8ea4f-c4ab-44ba-9b89-78b17238be52",
   "metadata": {},
   "outputs": [
    {
     "name": "stdout",
     "output_type": "stream",
     "text": [
      "Sustainable cities:\n",
      "City B-350 kg CO2\n",
      "City D-200 kg CO2\n"
     ]
    }
   ],
   "source": [
    "# write a function to filter the city are sustainable or not(400 ton co2)\n",
    "def is_sustainable(city):\n",
    "  return city[\"carbon_footprint\"]<=400\n",
    "\n",
    "sustainable_cities=[city for city in climate_data if is_sustainable(city)]\n",
    "print(\"Sustainable cities:\")\n",
    "for city in sustainable_cities:\n",
    "  print(f\"{city['city']}-{city['carbon_footprint']} kg CO2\")"
   ]
  },
  {
   "cell_type": "code",
   "execution_count": null,
   "id": "5b28a9f0-13cf-448f-a8f2-88261a0a7075",
   "metadata": {},
   "outputs": [],
   "source": []
  },
  {
   "cell_type": "markdown",
   "id": "ec80b2fe-3bf4-42cd-b5cd-613edca54614",
   "metadata": {},
   "source": [
    "# Functions"
   ]
  },
  {
   "cell_type": "code",
   "execution_count": 210,
   "id": "fc2e1047-ef00-4ff5-923a-53c3fca15982",
   "metadata": {},
   "outputs": [],
   "source": [
    "def add(a,b): \n",
    "    c=a+b\n",
    "    return c"
   ]
  },
  {
   "cell_type": "code",
   "execution_count": 211,
   "id": "b0ec45b1-3eca-481d-aaa1-3b005c6e0ab4",
   "metadata": {},
   "outputs": [
    {
     "data": {
      "text/plain": [
       "7"
      ]
     },
     "execution_count": 211,
     "metadata": {},
     "output_type": "execute_result"
    }
   ],
   "source": [
    "add(3,4)"
   ]
  },
  {
   "cell_type": "code",
   "execution_count": 212,
   "id": "1a58f620-9bd6-4776-940e-9ec4951fc0e0",
   "metadata": {},
   "outputs": [
    {
     "name": "stdout",
     "output_type": "stream",
     "text": [
      "5\n"
     ]
    }
   ],
   "source": [
    "y = lambda x: x + 2\n",
    "print(y(3))"
   ]
  },
  {
   "cell_type": "code",
   "execution_count": 213,
   "id": "280c08a5-25b5-4d79-8ae0-b6fe74e65ffc",
   "metadata": {},
   "outputs": [
    {
     "name": "stdin",
     "output_type": "stream",
     "text": [
      "Enter a year:  2004\n"
     ]
    },
    {
     "name": "stdout",
     "output_type": "stream",
     "text": [
      "2004 is a leap year.\n"
     ]
    }
   ],
   "source": [
    "# leap year or not\n",
    "def is_leap_year(year):\n",
    "  \n",
    "    if (year % 4 == 0 and year % 100 != 0) or (year % 400 == 0):\n",
    "        return True\n",
    "    else:\n",
    "        return False\n",
    "\n",
    "# Input from the user\n",
    "year = int(input(\"Enter a year: \"))\n",
    "\n",
    "# Check if it's a leap year\n",
    "if is_leap_year(year):\n",
    "    print(f\"{year} is a leap year.\")\n",
    "else:\n",
    "    print(f\"{year} is not a leap year.\")\n"
   ]
  },
  {
   "cell_type": "code",
   "execution_count": null,
   "id": "ba27856d-edc1-496f-89d3-f0803736406c",
   "metadata": {},
   "outputs": [],
   "source": []
  },
  {
   "cell_type": "markdown",
   "id": "bc8718de-d329-40a9-a513-a76807245653",
   "metadata": {},
   "source": [
    "# Series dataframe using pandas"
   ]
  },
  {
   "cell_type": "code",
   "execution_count": 215,
   "id": "0d511f31-f750-4112-8e3d-3b6ce2fc5185",
   "metadata": {},
   "outputs": [],
   "source": [
    "import pandas as pd"
   ]
  },
  {
   "cell_type": "code",
   "execution_count": 216,
   "id": "068bb923-3acb-4435-b1bd-7bcd86104a2a",
   "metadata": {},
   "outputs": [],
   "source": [
    "import pandas as pd\n",
    "\n",
    "\n",
    "data = {\n",
    "    \"Project\": [\"Solar Farm A\", \"Wind Turbine X\", \"Hydropower Y\", \"Solar Roof Z\", \"Geothermal Plant P\"],\n",
    "    \"Technology\": [\"Solar\", \"Wind\", \"Hydropower\", \"Solar\", \"Geothermal\"],\n",
    "    \"Capacity (MW)\": [150, 300, 200, 50, 100],  # Megawatts\n",
    "    \"Cost (Million $)\": [200, 400, 350, 100, 250],  # Project cost\n",
    "    \"Location\": [\"California\", \"Texas\", \"Washington\", \"Nevada\", \"Idaho\"],\n",
    "    \"Completion Year\": [2023, 2024, 2022, 2025, 2023]\n",
    "}"
   ]
  },
  {
   "cell_type": "markdown",
   "id": "b2a59b85-8af9-4cde-977e-0f876a106d37",
   "metadata": {},
   "source": [
    "1] Create a series for renewable sources"
   ]
  },
  {
   "cell_type": "code",
   "execution_count": 218,
   "id": "f136ef0d-4ea7-4276-a54f-e71ff6f2a559",
   "metadata": {},
   "outputs": [
    {
     "name": "stdout",
     "output_type": "stream",
     "text": [
      "0          wind\n",
      "1    geothermal\n",
      "2    hydropower\n",
      "3         solar\n",
      "dtype: object\n"
     ]
    }
   ],
   "source": [
    "\n",
    "# Assuming renewable_sources is a set\n",
    "renewable_sources = {\"solar\", \"wind\", \"hydropower\", \"geothermal\"}\n",
    "\n",
    "# Convert the set to a list\n",
    "renewable_sources_list = list(renewable_sources)\n",
    "\n",
    "# Create the Series\n",
    "r_series = pd.Series(renewable_sources_list)\n",
    "\n",
    "# Print the Series\n",
    "print(r_series)\n"
   ]
  },
  {
   "cell_type": "code",
   "execution_count": 219,
   "id": "84a8759f-5ff5-4e1e-aa54-7ef56eee0c96",
   "metadata": {},
   "outputs": [
    {
     "name": "stdout",
     "output_type": "stream",
     "text": [
      "Project DataFrame:\n",
      "              Project  Technology  Capacity (MW)  Cost (Million $)  \\\n",
      "0        Solar Farm A       Solar            150               200   \n",
      "1      Wind Turbine X        Wind            300               400   \n",
      "2        Hydropower Y  Hydropower            200               350   \n",
      "3        Solar Roof Z       Solar             50               100   \n",
      "4  Geothermal Plant P  Geothermal            100               250   \n",
      "\n",
      "     Location  Completion Year  \n",
      "0  California             2023  \n",
      "1       Texas             2024  \n",
      "2  Washington             2022  \n",
      "3      Nevada             2025  \n",
      "4       Idaho             2023  \n",
      "          Project  Technology  Capacity (MW)  Cost (Million $)    Location  \\\n",
      "1  Wind Turbine X        Wind            300               400       Texas   \n",
      "2    Hydropower Y  Hydropower            200               350  Washington   \n",
      "\n",
      "   Completion Year  \n",
      "1             2024  \n",
      "2             2022  \n"
     ]
    }
   ],
   "source": [
    "project_df=pd.DataFrame(data)\n",
    "project_df.head()\n",
    "print(\"Project DataFrame:\")\n",
    "print(project_df)\n",
    "\n",
    "# to get 2 and 3rd row of data\n",
    "print(project_df.iloc[1:3])"
   ]
  },
  {
   "cell_type": "code",
   "execution_count": 220,
   "id": "74e80dfa-2a51-4ffd-8216-0ed9a7e1951d",
   "metadata": {},
   "outputs": [
    {
     "name": "stdout",
     "output_type": "stream",
     "text": [
      "<class 'pandas.core.frame.DataFrame'>\n",
      "RangeIndex: 5 entries, 0 to 4\n",
      "Data columns (total 6 columns):\n",
      " #   Column            Non-Null Count  Dtype \n",
      "---  ------            --------------  ----- \n",
      " 0   Project           5 non-null      object\n",
      " 1   Technology        5 non-null      object\n",
      " 2   Capacity (MW)     5 non-null      int64 \n",
      " 3   Cost (Million $)  5 non-null      int64 \n",
      " 4   Location          5 non-null      object\n",
      " 5   Completion Year   5 non-null      int64 \n",
      "dtypes: int64(3), object(3)\n",
      "memory usage: 372.0+ bytes\n"
     ]
    }
   ],
   "source": [
    "project_df.info()"
   ]
  },
  {
   "cell_type": "code",
   "execution_count": 221,
   "id": "af88169c-38a8-4fff-9c1f-936f68f5a999",
   "metadata": {},
   "outputs": [
    {
     "data": {
      "text/html": [
       "<div>\n",
       "<style scoped>\n",
       "    .dataframe tbody tr th:only-of-type {\n",
       "        vertical-align: middle;\n",
       "    }\n",
       "\n",
       "    .dataframe tbody tr th {\n",
       "        vertical-align: top;\n",
       "    }\n",
       "\n",
       "    .dataframe thead th {\n",
       "        text-align: right;\n",
       "    }\n",
       "</style>\n",
       "<table border=\"1\" class=\"dataframe\">\n",
       "  <thead>\n",
       "    <tr style=\"text-align: right;\">\n",
       "      <th></th>\n",
       "      <th>Capacity (MW)</th>\n",
       "      <th>Cost (Million $)</th>\n",
       "      <th>Completion Year</th>\n",
       "    </tr>\n",
       "  </thead>\n",
       "  <tbody>\n",
       "    <tr>\n",
       "      <th>count</th>\n",
       "      <td>5.00000</td>\n",
       "      <td>5.000000</td>\n",
       "      <td>5.000000</td>\n",
       "    </tr>\n",
       "    <tr>\n",
       "      <th>mean</th>\n",
       "      <td>160.00000</td>\n",
       "      <td>260.000000</td>\n",
       "      <td>2023.400000</td>\n",
       "    </tr>\n",
       "    <tr>\n",
       "      <th>std</th>\n",
       "      <td>96.17692</td>\n",
       "      <td>119.373364</td>\n",
       "      <td>1.140175</td>\n",
       "    </tr>\n",
       "    <tr>\n",
       "      <th>min</th>\n",
       "      <td>50.00000</td>\n",
       "      <td>100.000000</td>\n",
       "      <td>2022.000000</td>\n",
       "    </tr>\n",
       "    <tr>\n",
       "      <th>25%</th>\n",
       "      <td>100.00000</td>\n",
       "      <td>200.000000</td>\n",
       "      <td>2023.000000</td>\n",
       "    </tr>\n",
       "    <tr>\n",
       "      <th>50%</th>\n",
       "      <td>150.00000</td>\n",
       "      <td>250.000000</td>\n",
       "      <td>2023.000000</td>\n",
       "    </tr>\n",
       "    <tr>\n",
       "      <th>75%</th>\n",
       "      <td>200.00000</td>\n",
       "      <td>350.000000</td>\n",
       "      <td>2024.000000</td>\n",
       "    </tr>\n",
       "    <tr>\n",
       "      <th>max</th>\n",
       "      <td>300.00000</td>\n",
       "      <td>400.000000</td>\n",
       "      <td>2025.000000</td>\n",
       "    </tr>\n",
       "  </tbody>\n",
       "</table>\n",
       "</div>"
      ],
      "text/plain": [
       "       Capacity (MW)  Cost (Million $)  Completion Year\n",
       "count        5.00000          5.000000         5.000000\n",
       "mean       160.00000        260.000000      2023.400000\n",
       "std         96.17692        119.373364         1.140175\n",
       "min         50.00000        100.000000      2022.000000\n",
       "25%        100.00000        200.000000      2023.000000\n",
       "50%        150.00000        250.000000      2023.000000\n",
       "75%        200.00000        350.000000      2024.000000\n",
       "max        300.00000        400.000000      2025.000000"
      ]
     },
     "execution_count": 221,
     "metadata": {},
     "output_type": "execute_result"
    }
   ],
   "source": [
    "project_df.describe()"
   ]
  },
  {
   "cell_type": "code",
   "execution_count": 222,
   "id": "31c56ac0-30a3-4d3a-bf3f-c8fbcd199c8d",
   "metadata": {},
   "outputs": [
    {
     "name": "stdout",
     "output_type": "stream",
     "text": [
      "          Project  Technology  Capacity (MW)  Cost (Million $)    Location  \\\n",
      "0    Solar Farm A       Solar            150               200  California   \n",
      "1  Wind Turbine X        Wind            300               400       Texas   \n",
      "2    Hydropower Y  Hydropower            200               350  Washington   \n",
      "\n",
      "   Completion Year  \n",
      "0             2023  \n",
      "1             2024  \n",
      "2             2022  \n"
     ]
    }
   ],
   "source": [
    "# filter whose capacity  more than 100 mb\n",
    "filtered_df = project_df[project_df[\"Capacity (MW)\"] > 100]\n",
    "print(filtered_df)"
   ]
  },
  {
   "cell_type": "code",
   "execution_count": 223,
   "id": "cd699d7f-c949-432a-a70e-7d4f93640256",
   "metadata": {},
   "outputs": [
    {
     "data": {
      "text/html": [
       "<div>\n",
       "<style scoped>\n",
       "    .dataframe tbody tr th:only-of-type {\n",
       "        vertical-align: middle;\n",
       "    }\n",
       "\n",
       "    .dataframe tbody tr th {\n",
       "        vertical-align: top;\n",
       "    }\n",
       "\n",
       "    .dataframe thead th {\n",
       "        text-align: right;\n",
       "    }\n",
       "</style>\n",
       "<table border=\"1\" class=\"dataframe\">\n",
       "  <thead>\n",
       "    <tr style=\"text-align: right;\">\n",
       "      <th></th>\n",
       "      <th>Project</th>\n",
       "      <th>Technology</th>\n",
       "      <th>Capacity (MW)</th>\n",
       "      <th>Cost (Million $)</th>\n",
       "      <th>Location</th>\n",
       "      <th>Completion Year</th>\n",
       "      <th>Cost per MW</th>\n",
       "    </tr>\n",
       "  </thead>\n",
       "  <tbody>\n",
       "    <tr>\n",
       "      <th>0</th>\n",
       "      <td>Solar Farm A</td>\n",
       "      <td>Solar</td>\n",
       "      <td>150</td>\n",
       "      <td>200</td>\n",
       "      <td>California</td>\n",
       "      <td>2023</td>\n",
       "      <td>1.333333</td>\n",
       "    </tr>\n",
       "    <tr>\n",
       "      <th>1</th>\n",
       "      <td>Wind Turbine X</td>\n",
       "      <td>Wind</td>\n",
       "      <td>300</td>\n",
       "      <td>400</td>\n",
       "      <td>Texas</td>\n",
       "      <td>2024</td>\n",
       "      <td>1.333333</td>\n",
       "    </tr>\n",
       "    <tr>\n",
       "      <th>2</th>\n",
       "      <td>Hydropower Y</td>\n",
       "      <td>Hydropower</td>\n",
       "      <td>200</td>\n",
       "      <td>350</td>\n",
       "      <td>Washington</td>\n",
       "      <td>2022</td>\n",
       "      <td>1.750000</td>\n",
       "    </tr>\n",
       "    <tr>\n",
       "      <th>3</th>\n",
       "      <td>Solar Roof Z</td>\n",
       "      <td>Solar</td>\n",
       "      <td>50</td>\n",
       "      <td>100</td>\n",
       "      <td>Nevada</td>\n",
       "      <td>2025</td>\n",
       "      <td>2.000000</td>\n",
       "    </tr>\n",
       "    <tr>\n",
       "      <th>4</th>\n",
       "      <td>Geothermal Plant P</td>\n",
       "      <td>Geothermal</td>\n",
       "      <td>100</td>\n",
       "      <td>250</td>\n",
       "      <td>Idaho</td>\n",
       "      <td>2023</td>\n",
       "      <td>2.500000</td>\n",
       "    </tr>\n",
       "  </tbody>\n",
       "</table>\n",
       "</div>"
      ],
      "text/plain": [
       "              Project  Technology  Capacity (MW)  Cost (Million $)  \\\n",
       "0        Solar Farm A       Solar            150               200   \n",
       "1      Wind Turbine X        Wind            300               400   \n",
       "2        Hydropower Y  Hydropower            200               350   \n",
       "3        Solar Roof Z       Solar             50               100   \n",
       "4  Geothermal Plant P  Geothermal            100               250   \n",
       "\n",
       "     Location  Completion Year  Cost per MW  \n",
       "0  California             2023     1.333333  \n",
       "1       Texas             2024     1.333333  \n",
       "2  Washington             2022     1.750000  \n",
       "3      Nevada             2025     2.000000  \n",
       "4       Idaho             2023     2.500000  "
      ]
     },
     "execution_count": 223,
     "metadata": {},
     "output_type": "execute_result"
    }
   ],
   "source": [
    "#add new column[cost per megawatt]\n",
    "project_df['Cost per MW'] = project_df['Cost (Million $)'] / project_df['Capacity (MW)']\n",
    "project_df\n"
   ]
  },
  {
   "cell_type": "markdown",
   "id": "8ff3dd23-bf73-4960-aaa2-4e76efd31123",
   "metadata": {},
   "source": [
    "##  Grouping Data"
   ]
  },
  {
   "cell_type": "code",
   "execution_count": 225,
   "id": "2d7fc331-319d-47d7-9c17-52d7c159f207",
   "metadata": {},
   "outputs": [
    {
     "name": "stdout",
     "output_type": "stream",
     "text": [
      "Technology\n",
      "Geothermal    100\n",
      "Hydropower    200\n",
      "Solar         200\n",
      "Wind          300\n",
      "Name: Capacity (MW), dtype: int64\n"
     ]
    }
   ],
   "source": [
    "grouped_data = project_df.groupby(\"Technology\")[\"Capacity (MW)\"].sum()\n",
    "print(grouped_data)"
   ]
  },
  {
   "cell_type": "code",
   "execution_count": null,
   "id": "0f6f9dd5-1c3b-40c6-9031-393c676dbcfd",
   "metadata": {},
   "outputs": [],
   "source": []
  },
  {
   "cell_type": "markdown",
   "id": "827a8198-a4ff-4616-a2d2-18cddd2eaf77",
   "metadata": {},
   "source": [
    "# Numpy"
   ]
  },
  {
   "cell_type": "code",
   "execution_count": 227,
   "id": "6a69b54e-c636-4954-ac08-cfa4f948913a",
   "metadata": {},
   "outputs": [],
   "source": [
    "import numpy as np"
   ]
  },
  {
   "cell_type": "code",
   "execution_count": 228,
   "id": "f3970786-4851-42f8-99e8-1f776f853828",
   "metadata": {},
   "outputs": [
    {
     "name": "stdout",
     "output_type": "stream",
     "text": [
      "[1 2 3]\n",
      "[[2 3]\n",
      " [3 4]]\n"
     ]
    }
   ],
   "source": [
    "#create numpy aaray\n",
    "# 1d\n",
    "arr = np.array([1,2,3])\n",
    "print(arr)\n",
    "\n",
    "#2d\n",
    "arr2 = np.array([[2,3],[3,4]])\n",
    "print(arr2)"
   ]
  },
  {
   "cell_type": "code",
   "execution_count": 229,
   "id": "4cab316b-9738-4816-aebf-2a2ff28057a2",
   "metadata": {},
   "outputs": [
    {
     "name": "stdout",
     "output_type": "stream",
     "text": [
      "(3,)\n",
      "4\n",
      "1\n"
     ]
    }
   ],
   "source": [
    "# atrribute on 1d array\n",
    "\n",
    "a1 = np.array([1,2,3])\n",
    "print(a1.shape)\n",
    "\n",
    "print(a1.itemsize)\n",
    "\n",
    "print(a1.ndim)"
   ]
  },
  {
   "cell_type": "code",
   "execution_count": 230,
   "id": "a8ea824a-1775-4706-b69a-c0553607b2ba",
   "metadata": {},
   "outputs": [
    {
     "name": "stdout",
     "output_type": "stream",
     "text": [
      "(2, 2)\n",
      "4\n",
      "2\n",
      "int32\n",
      "4\n"
     ]
    }
   ],
   "source": [
    "# on 2 d array\n",
    "two_D = np.array([[1,2],[3,4]])\n",
    "print(two_D.shape)\n",
    "print(two_D.size)\n",
    "print(two_D.ndim)\n",
    "print(two_D.dtype)\n",
    "print(two_D.itemsize)"
   ]
  },
  {
   "cell_type": "code",
   "execution_count": 231,
   "id": "477d01f5-de33-4a79-a0b5-a2a7f5ff6e6c",
   "metadata": {},
   "outputs": [
    {
     "data": {
      "text/plain": [
       "array([0.60822196, 0.20774359, 0.62423048])"
      ]
     },
     "execution_count": 231,
     "metadata": {},
     "output_type": "execute_result"
    }
   ],
   "source": [
    "# ways of creating numpy array\n",
    "np.ones(2)\n",
    "\n",
    "np.zeros(3)\n",
    "\n",
    "np.random.random(3)"
   ]
  },
  {
   "cell_type": "code",
   "execution_count": 232,
   "id": "4539cf05-3609-46cd-bd32-00d0c822a0cd",
   "metadata": {},
   "outputs": [
    {
     "name": "stdout",
     "output_type": "stream",
     "text": [
      "[[10 10 10]\n",
      " [10 10 10]\n",
      " [10 10 10]]\n"
     ]
    }
   ],
   "source": [
    "#create an array of 3x3 all elemets to be 10\n",
    "a = np.full((3,3),10)\n",
    "print(a)"
   ]
  },
  {
   "cell_type": "code",
   "execution_count": 233,
   "id": "c2d56ab7-16cd-4204-8223-30a2159c9d6f",
   "metadata": {},
   "outputs": [
    {
     "name": "stdout",
     "output_type": "stream",
     "text": [
      "[[1. 0. 0. 0.]\n",
      " [0. 1. 0. 0.]\n",
      " [0. 0. 1. 0.]\n",
      " [0. 0. 0. 1.]]\n"
     ]
    }
   ],
   "source": [
    "#identity matrix\n",
    "a = np.identity(4)\n",
    "print(a)\n"
   ]
  },
  {
   "cell_type": "code",
   "execution_count": null,
   "id": "6858e937-783b-4494-9437-23ca2ac6577d",
   "metadata": {},
   "outputs": [],
   "source": []
  },
  {
   "cell_type": "code",
   "execution_count": 234,
   "id": "270e25f7-04c1-4c23-b613-348dd8dc1266",
   "metadata": {},
   "outputs": [
    {
     "name": "stdout",
     "output_type": "stream",
     "text": [
      "[0 2 4 6 8]\n"
     ]
    }
   ],
   "source": [
    "# arrange values\n",
    "a = np.arange(0,10,2)\n",
    "print(a)"
   ]
  },
  {
   "cell_type": "code",
   "execution_count": 235,
   "id": "fde31f32-e915-49a0-92ff-0ed2b9f3e514",
   "metadata": {},
   "outputs": [
    {
     "name": "stdout",
     "output_type": "stream",
     "text": [
      "[ 5.   7.5 10. ]\n"
     ]
    }
   ],
   "source": [
    "# linspace\n",
    "la = np.linspace(5,10,3)\n",
    "print(la)"
   ]
  },
  {
   "cell_type": "code",
   "execution_count": 236,
   "id": "e454c577-c88e-4fca-80f6-587af457310b",
   "metadata": {},
   "outputs": [
    {
     "name": "stdout",
     "output_type": "stream",
     "text": [
      "[11 22 33 44 55 66]\n",
      "[11 22 33 44 55 66]\n",
      "[66 55 44 33 22 11]\n"
     ]
    }
   ],
   "source": [
    "#print all elements in array\n",
    "\n",
    "a = np.array([11,22,33,44,55,66])\n",
    "print(a[:])\n",
    "\n",
    "print(a[::1])\n",
    "\n",
    "print(a[::-1])"
   ]
  },
  {
   "cell_type": "code",
   "execution_count": 237,
   "id": "d55a7690-0d0e-4248-a1c9-848f1c907627",
   "metadata": {},
   "outputs": [
    {
     "name": "stdout",
     "output_type": "stream",
     "text": [
      "String palindrome or not:\n"
     ]
    },
    {
     "name": "stdin",
     "output_type": "stream",
     "text": [
      "Enter a string:  anu\n"
     ]
    },
    {
     "name": "stdout",
     "output_type": "stream",
     "text": [
      "\"anu\" is not a palindrome.\n"
     ]
    }
   ],
   "source": [
    "#string is pallindrome or not \n",
    "\n",
    "print(\"String palindrome or not:\")\n",
    "def is_palindrome(string):\n",
    "    cleaned_string = ''.join(char.lower() for char in string if char.isalnum())\n",
    "    \n",
    "    return cleaned_string == cleaned_string[::-1]\n",
    "    \n",
    "user_input = input(\"Enter a string: \")\n",
    "\n",
    "if is_palindrome(user_input):\n",
    "    print(f'\"{user_input}\" is a palindrome.')\n",
    "else:\n",
    "    print(f'\"{user_input}\" is not a palindrome.')\n"
   ]
  },
  {
   "cell_type": "code",
   "execution_count": null,
   "id": "25d3325c-d588-47c2-9d79-07dc2b4428b1",
   "metadata": {},
   "outputs": [],
   "source": []
  },
  {
   "cell_type": "markdown",
   "id": "91a7c9c5-8cd9-4080-af6f-ed3f1a387f81",
   "metadata": {},
   "source": [
    "## Array Manipulation"
   ]
  },
  {
   "cell_type": "code",
   "execution_count": 319,
   "id": "d5a236cc-9b12-4e75-a908-1383db372170",
   "metadata": {},
   "outputs": [
    {
     "data": {
      "text/plain": [
       "array([[11, 22, 33],\n",
       "       [44, 55, 66]])"
      ]
     },
     "execution_count": 319,
     "metadata": {},
     "output_type": "execute_result"
    }
   ],
   "source": [
    "#reshape used to comprise the shape of the image,resize the image,string\n",
    "a.reshape(2,3)"
   ]
  },
  {
   "cell_type": "code",
   "execution_count": 321,
   "id": "8aa26728-35af-440c-a761-a44a22802729",
   "metadata": {},
   "outputs": [
    {
     "name": "stdout",
     "output_type": "stream",
     "text": [
      "<built-in method transpose of numpy.ndarray object at 0x00000237F6CA80F0>\n"
     ]
    }
   ],
   "source": [
    "#transpose the matrix\n",
    "a = np.array([11,22,33,44,55,66])\n",
    "print(a.transpose)"
   ]
  },
  {
   "cell_type": "code",
   "execution_count": 323,
   "id": "17e23e12-d500-4862-89c4-748366f1cfa9",
   "metadata": {},
   "outputs": [
    {
     "name": "stdout",
     "output_type": "stream",
     "text": [
      "[11 44 22 55 33 66]\n"
     ]
    }
   ],
   "source": [
    "#flatten method\n",
    "\n",
    "a = np.array([[11,22,33],[44,55,66]])\n",
    "print(a.flatten('F'))"
   ]
  },
  {
   "cell_type": "markdown",
   "id": "399d2e49-00ec-47ee-b1cb-3d2e11d6353b",
   "metadata": {},
   "source": [
    "Energy Consumbtion"
   ]
  },
  {
   "cell_type": "code",
   "execution_count": 326,
   "id": "d6bce39a-850d-4d96-b34d-2eebfd08c5eb",
   "metadata": {},
   "outputs": [
    {
     "name": "stdout",
     "output_type": "stream",
     "text": [
      "97\n"
     ]
    }
   ],
   "source": [
    "energy_consumbtion = np.array([12,34,13,24,14])\n",
    "total = np.sum(energy_consumbtion)\n",
    "print(total)"
   ]
  },
  {
   "cell_type": "code",
   "execution_count": 328,
   "id": "018660b3-063f-4a8d-ad62-d2c501530ed0",
   "metadata": {},
   "outputs": [
    {
     "name": "stdout",
     "output_type": "stream",
     "text": [
      "Mean energy consumption (kWh): 2360.0\n",
      "Median energy consumption (kWh): 2500.0\n",
      "Standard deviation of energy consumption (kWh): 781.2809993849844\n",
      "Variance of energy consumption (kWh): 610400.0\n"
     ]
    }
   ],
   "source": [
    "# Create an array for energy consumption (in kWh)\n",
    "energy_consumption = np.array([1200, 3400, 2900, 1800, 2500])\n",
    "\n",
    "# Calculate the mean\n",
    "mean_consumption = np.mean(energy_consumption)\n",
    "print(\"Mean energy consumption (kWh):\", mean_consumption)\n",
    "\n",
    "# Calculate the median\n",
    "median_consumption = np.median(energy_consumption)\n",
    "print(\"Median energy consumption (kWh):\", median_consumption)\n",
    "\n",
    "# Calculate the standard deviation\n",
    "std_dev_consumption = np.std(energy_consumption)\n",
    "print(\"Standard deviation of energy consumption (kWh):\", std_dev_consumption)\n",
    "\n",
    "# Calculate the variance\n",
    "variance_consumption = np.var(energy_consumption)\n",
    "print(\"Variance of energy consumption (kWh):\", variance_consumption)"
   ]
  },
  {
   "cell_type": "code",
   "execution_count": 330,
   "id": "45cb5b8e-125b-4d0d-a009-9650e27dbde1",
   "metadata": {},
   "outputs": [
    {
     "name": "stdout",
     "output_type": "stream",
     "text": [
      "Original Array:\n",
      "[1 2 3 4 5 6 7 8 9]\n",
      "\n",
      "Reshaped Array (3x3):\n",
      "[[1 2 3]\n",
      " [4 5 6]\n",
      " [7 8 9]]\n"
     ]
    }
   ],
   "source": [
    "#reshape \n",
    "import numpy as np\n",
    "\n",
    "# Original array\n",
    "arr = np.array([1, 2, 3, 4, 5, 6, 7, 8, 9])\n",
    "\n",
    "# Reshape the array into a 3x3 matrix\n",
    "reshaped_arr = arr.reshape(3, 3)\n",
    "\n",
    "print(\"Original Array:\")\n",
    "print(arr)\n",
    "\n",
    "print(\"\\nReshaped Array (3x3):\")\n",
    "print(reshaped_arr)"
   ]
  },
  {
   "cell_type": "code",
   "execution_count": 332,
   "id": "a52b0202-a79a-4af1-a3d1-59fa7bd0cc3d",
   "metadata": {},
   "outputs": [],
   "source": [
    "data = {\n",
    "    \"Energy Source\": [\"Solar\", \"Wind\", \"Hydropower\", \"Geothermal\", \"Biomass\", \"Nuclear\"],\n",
    "    \"Energy Consumption (MWh)\": [1200, np.nan, 2900, np.nan, 2500, 3200],\n",
    "    \"Cost (Million $)\": [200, 400, np.nan, 150, 250, np.nan]\n",
    "}"
   ]
  },
  {
   "cell_type": "code",
   "execution_count": 334,
   "id": "28ee8029-5946-4fb9-b4bf-6d6c4438d011",
   "metadata": {},
   "outputs": [
    {
     "name": "stdout",
     "output_type": "stream",
     "text": [
      "\n",
      "Data after removing rows with missing values:\n"
     ]
    },
    {
     "data": {
      "text/html": [
       "<div>\n",
       "<style scoped>\n",
       "    .dataframe tbody tr th:only-of-type {\n",
       "        vertical-align: middle;\n",
       "    }\n",
       "\n",
       "    .dataframe tbody tr th {\n",
       "        vertical-align: top;\n",
       "    }\n",
       "\n",
       "    .dataframe thead th {\n",
       "        text-align: right;\n",
       "    }\n",
       "</style>\n",
       "<table border=\"1\" class=\"dataframe\">\n",
       "  <thead>\n",
       "    <tr style=\"text-align: right;\">\n",
       "      <th></th>\n",
       "      <th>Energy Source</th>\n",
       "      <th>Energy Consumption (MWh)</th>\n",
       "      <th>Cost (Million $)</th>\n",
       "    </tr>\n",
       "  </thead>\n",
       "  <tbody>\n",
       "    <tr>\n",
       "      <th>0</th>\n",
       "      <td>Solar</td>\n",
       "      <td>1200.0</td>\n",
       "      <td>200.0</td>\n",
       "    </tr>\n",
       "    <tr>\n",
       "      <th>4</th>\n",
       "      <td>Biomass</td>\n",
       "      <td>2500.0</td>\n",
       "      <td>250.0</td>\n",
       "    </tr>\n",
       "  </tbody>\n",
       "</table>\n",
       "</div>"
      ],
      "text/plain": [
       "  Energy Source  Energy Consumption (MWh)  Cost (Million $)\n",
       "0         Solar                    1200.0             200.0\n",
       "4       Biomass                    2500.0             250.0"
      ]
     },
     "execution_count": 334,
     "metadata": {},
     "output_type": "execute_result"
    }
   ],
   "source": [
    "import pandas as pd \n",
    "import numpy as np\n",
    "\n",
    "# Create the DataFrame\n",
    "data = {\n",
    "    \"Energy Source\": [\"Solar\", \"Wind\", \"Hydropower\", \"Geothermal\", \"Biomass\", \"Nuclear\"],\n",
    "    \"Energy Consumption (MWh)\": [1200, np.nan, 2900, np.nan, 2500, 3200],\n",
    "    \"Cost (Million $)\": [200, 400, np.nan, 150, 250, np.nan]\n",
    "}\n",
    "\n",
    "df = pd.DataFrame(data)\n",
    "energy_df=pd.DataFrame(data)\n",
    "\n",
    "# remove rws with any missing values \n",
    "cleaned_df = energy_df.dropna()\n",
    "print(\"\\nData after removing rows with missing values:\")\n",
    "cleaned_df.head()\n",
    "\n"
   ]
  },
  {
   "cell_type": "code",
   "execution_count": 336,
   "id": "2d220ea3-0980-4c7b-9aef-5bd9bf208adb",
   "metadata": {},
   "outputs": [
    {
     "name": "stdout",
     "output_type": "stream",
     "text": [
      "Mean of energy consumption 2450.0\n"
     ]
    }
   ],
   "source": [
    "#replace missing value with mean\n",
    "ec_mean = energy_df[\"Energy Consumption (MWh)\"].mean()\n",
    "print(\"Mean of energy consumption\",ec_mean)\n",
    "\n",
    "#energy_df[\"Energy Consumption (MWh)\"].fillna(ec_mean,inplace = True)"
   ]
  },
  {
   "cell_type": "code",
   "execution_count": 338,
   "id": "da09f5ed-f4db-49b6-bca7-4145b6745115",
   "metadata": {},
   "outputs": [
    {
     "name": "stdout",
     "output_type": "stream",
     "text": [
      "  Energy Source  Energy Consumption (MWh)  Cost (Million $)\n",
      "0         Solar                    1200.0             200.0\n",
      "1          Wind                       NaN             400.0\n",
      "2    Hydropower                    2900.0               NaN\n",
      "3    Geothermal                       NaN             150.0\n",
      "4       Biomass                    2500.0             250.0\n",
      "5       Nuclear                    3200.0               NaN\n"
     ]
    },
    {
     "name": "stderr",
     "output_type": "stream",
     "text": [
      "C:\\Users\\hp\\AppData\\Local\\Temp\\ipykernel_19216\\1192411387.py:2: FutureWarning: DataFrame.fillna with 'method' is deprecated and will raise in a future version. Use obj.ffill() or obj.bfill() instead.\n",
      "  forward_fill = energy_df.fillna(method=\"ffill\")\n"
     ]
    },
    {
     "data": {
      "text/html": [
       "<div>\n",
       "<style scoped>\n",
       "    .dataframe tbody tr th:only-of-type {\n",
       "        vertical-align: middle;\n",
       "    }\n",
       "\n",
       "    .dataframe tbody tr th {\n",
       "        vertical-align: top;\n",
       "    }\n",
       "\n",
       "    .dataframe thead th {\n",
       "        text-align: right;\n",
       "    }\n",
       "</style>\n",
       "<table border=\"1\" class=\"dataframe\">\n",
       "  <thead>\n",
       "    <tr style=\"text-align: right;\">\n",
       "      <th></th>\n",
       "      <th>Energy Source</th>\n",
       "      <th>Energy Consumption (MWh)</th>\n",
       "      <th>Cost (Million $)</th>\n",
       "    </tr>\n",
       "  </thead>\n",
       "  <tbody>\n",
       "    <tr>\n",
       "      <th>0</th>\n",
       "      <td>Solar</td>\n",
       "      <td>1200.0</td>\n",
       "      <td>200.0</td>\n",
       "    </tr>\n",
       "    <tr>\n",
       "      <th>1</th>\n",
       "      <td>Wind</td>\n",
       "      <td>1200.0</td>\n",
       "      <td>400.0</td>\n",
       "    </tr>\n",
       "    <tr>\n",
       "      <th>2</th>\n",
       "      <td>Hydropower</td>\n",
       "      <td>2900.0</td>\n",
       "      <td>400.0</td>\n",
       "    </tr>\n",
       "    <tr>\n",
       "      <th>3</th>\n",
       "      <td>Geothermal</td>\n",
       "      <td>2900.0</td>\n",
       "      <td>150.0</td>\n",
       "    </tr>\n",
       "    <tr>\n",
       "      <th>4</th>\n",
       "      <td>Biomass</td>\n",
       "      <td>2500.0</td>\n",
       "      <td>250.0</td>\n",
       "    </tr>\n",
       "  </tbody>\n",
       "</table>\n",
       "</div>"
      ],
      "text/plain": [
       "  Energy Source  Energy Consumption (MWh)  Cost (Million $)\n",
       "0         Solar                    1200.0             200.0\n",
       "1          Wind                    1200.0             400.0\n",
       "2    Hydropower                    2900.0             400.0\n",
       "3    Geothermal                    2900.0             150.0\n",
       "4       Biomass                    2500.0             250.0"
      ]
     },
     "execution_count": 338,
     "metadata": {},
     "output_type": "execute_result"
    }
   ],
   "source": [
    "# forward filling missing values\n",
    "forward_fill = energy_df.fillna(method=\"ffill\")\n",
    "print(energy_df)\n",
    "forward_fill.head()"
   ]
  },
  {
   "cell_type": "code",
   "execution_count": 340,
   "id": "fe9b2966-9a74-4b71-b834-d93cf0df2e91",
   "metadata": {},
   "outputs": [
    {
     "name": "stdout",
     "output_type": "stream",
     "text": [
      "\n",
      "Data with Missing Values Flagged:\n"
     ]
    },
    {
     "data": {
      "text/html": [
       "<div>\n",
       "<style scoped>\n",
       "    .dataframe tbody tr th:only-of-type {\n",
       "        vertical-align: middle;\n",
       "    }\n",
       "\n",
       "    .dataframe tbody tr th {\n",
       "        vertical-align: top;\n",
       "    }\n",
       "\n",
       "    .dataframe thead th {\n",
       "        text-align: right;\n",
       "    }\n",
       "</style>\n",
       "<table border=\"1\" class=\"dataframe\">\n",
       "  <thead>\n",
       "    <tr style=\"text-align: right;\">\n",
       "      <th></th>\n",
       "      <th>Energy Source</th>\n",
       "      <th>Energy Consumption (MWh)</th>\n",
       "      <th>Cost (Million $)</th>\n",
       "      <th>Missing Consumption</th>\n",
       "      <th>Missing Cost</th>\n",
       "    </tr>\n",
       "  </thead>\n",
       "  <tbody>\n",
       "    <tr>\n",
       "      <th>0</th>\n",
       "      <td>Solar</td>\n",
       "      <td>1200.0</td>\n",
       "      <td>200.0</td>\n",
       "      <td>0</td>\n",
       "      <td>0</td>\n",
       "    </tr>\n",
       "    <tr>\n",
       "      <th>1</th>\n",
       "      <td>Wind</td>\n",
       "      <td>NaN</td>\n",
       "      <td>400.0</td>\n",
       "      <td>1</td>\n",
       "      <td>0</td>\n",
       "    </tr>\n",
       "    <tr>\n",
       "      <th>2</th>\n",
       "      <td>Hydropower</td>\n",
       "      <td>2900.0</td>\n",
       "      <td>NaN</td>\n",
       "      <td>0</td>\n",
       "      <td>1</td>\n",
       "    </tr>\n",
       "    <tr>\n",
       "      <th>3</th>\n",
       "      <td>Geothermal</td>\n",
       "      <td>NaN</td>\n",
       "      <td>150.0</td>\n",
       "      <td>1</td>\n",
       "      <td>0</td>\n",
       "    </tr>\n",
       "    <tr>\n",
       "      <th>4</th>\n",
       "      <td>Biomass</td>\n",
       "      <td>2500.0</td>\n",
       "      <td>250.0</td>\n",
       "      <td>0</td>\n",
       "      <td>0</td>\n",
       "    </tr>\n",
       "  </tbody>\n",
       "</table>\n",
       "</div>"
      ],
      "text/plain": [
       "  Energy Source  Energy Consumption (MWh)  Cost (Million $)  \\\n",
       "0         Solar                    1200.0             200.0   \n",
       "1          Wind                       NaN             400.0   \n",
       "2    Hydropower                    2900.0               NaN   \n",
       "3    Geothermal                       NaN             150.0   \n",
       "4       Biomass                    2500.0             250.0   \n",
       "\n",
       "   Missing Consumption  Missing Cost  \n",
       "0                    0             0  \n",
       "1                    1             0  \n",
       "2                    0             1  \n",
       "3                    1             0  \n",
       "4                    0             0  "
      ]
     },
     "execution_count": 340,
     "metadata": {},
     "output_type": "execute_result"
    }
   ],
   "source": [
    "# Create a flag column indicating missing values in 'Energy Consumption (MWh)'\n",
    "energy_df[\"Missing Consumption\"] = energy_df[\"Energy Consumption (MWh)\"].isna().astype(int)\n",
    "energy_df[\"Missing Cost\"] = energy_df[\"Cost (Million $)\"].isna().astype(int)\n",
    "\n",
    "print(\"\\nData with Missing Values Flagged:\")\n",
    "energy_df.head()"
   ]
  },
  {
   "cell_type": "code",
   "execution_count": null,
   "id": "ef2f0789-4cab-4c98-9e66-1e55056c6a89",
   "metadata": {},
   "outputs": [],
   "source": []
  },
  {
   "cell_type": "markdown",
   "id": "c9db1355-891e-4fbf-93e7-2feb3a867d78",
   "metadata": {},
   "source": [
    "## Data Preprocessing"
   ]
  },
  {
   "cell_type": "markdown",
   "id": "952d6ff1-269e-4b65-b5c1-7764bca16f07",
   "metadata": {},
   "source": [
    "### 1] MinMaxScaler"
   ]
  },
  {
   "cell_type": "code",
   "execution_count": 345,
   "id": "e3a42b08-477a-4dce-a46d-8646e52a620c",
   "metadata": {},
   "outputs": [
    {
     "name": "stdout",
     "output_type": "stream",
     "text": [
      "  Energy Source  Energy Consumption (MWh)  Cost (Million $)  \\\n",
      "0         Solar                      0.00               0.2   \n",
      "1          Wind                       NaN               1.0   \n",
      "2    Hydropower                      0.85               NaN   \n",
      "3    Geothermal                       NaN               0.0   \n",
      "4       Biomass                      0.65               0.4   \n",
      "5       Nuclear                      1.00               NaN   \n",
      "\n",
      "   Missing Consumption  Missing Cost  \n",
      "0                    0             0  \n",
      "1                    1             0  \n",
      "2                    0             1  \n",
      "3                    1             0  \n",
      "4                    0             0  \n",
      "5                    0             1  \n"
     ]
    }
   ],
   "source": [
    "from sklearn.preprocessing import MinMaxScaler\n",
    "\n",
    "scaler = MinMaxScaler()\n",
    "\n",
    "energy_df[[\"Energy Consumption (MWh)\",\"Cost (Million $)\"]] = scaler.fit_transform(energy_df[[\"Energy Consumption (MWh)\",\"Cost (Million $)\"]])\n",
    "print(energy_df)"
   ]
  },
  {
   "cell_type": "markdown",
   "id": "e9c7c455-c1ef-4ffd-a4c2-21284a7159be",
   "metadata": {},
   "source": [
    "### 2] Standardscaler"
   ]
  },
  {
   "cell_type": "code",
   "execution_count": 348,
   "id": "991e27db-c385-4adc-a917-055b0431d15a",
   "metadata": {},
   "outputs": [
    {
     "name": "stdout",
     "output_type": "stream",
     "text": [
      "  Energy Source  Energy Consumption (MWh)  Cost (Million $)  \\\n",
      "0         Solar                 -1.637804         -0.534522   \n",
      "1          Wind                       NaN          1.603567   \n",
      "2    Hydropower                  0.589610               NaN   \n",
      "3    Geothermal                       NaN         -1.069045   \n",
      "4       Biomass                  0.065512          0.000000   \n",
      "5       Nuclear                  0.982683               NaN   \n",
      "\n",
      "   Missing Consumption  Missing Cost  \n",
      "0                    0             0  \n",
      "1                    1             0  \n",
      "2                    0             1  \n",
      "3                    1             0  \n",
      "4                    0             0  \n",
      "5                    0             1  \n"
     ]
    }
   ],
   "source": [
    "from sklearn.preprocessing import StandardScaler\n",
    "\n",
    "scaler = StandardScaler()\n",
    "energy_df[[\"Energy Consumption (MWh)\",\"Cost (Million $)\"]] = scaler.fit_transform(energy_df[[\"Energy Consumption (MWh)\",\"Cost (Million $)\"]])\n",
    "\n",
    "print(energy_df)"
   ]
  },
  {
   "cell_type": "code",
   "execution_count": 350,
   "id": "c85a7d71-ba54-49ab-a842-028135e22c77",
   "metadata": {},
   "outputs": [],
   "source": [
    "# One-hot encode the 'Energy Source' column\n",
    "energy_encoded_df = pd.get_dummies(energy_df, columns=[\"Energy Source\"])"
   ]
  },
  {
   "cell_type": "code",
   "execution_count": null,
   "id": "807c20fb-1568-4fd8-b695-d54560f7299c",
   "metadata": {},
   "outputs": [],
   "source": []
  },
  {
   "cell_type": "code",
   "execution_count": null,
   "id": "f9e747b2-3f7b-420d-badf-cd9ab9518a95",
   "metadata": {},
   "outputs": [],
   "source": []
  }
 ],
 "metadata": {
  "kernelspec": {
   "display_name": "Python [conda env:base] *",
   "language": "python",
   "name": "conda-base-py"
  },
  "language_info": {
   "codemirror_mode": {
    "name": "ipython",
    "version": 3
   },
   "file_extension": ".py",
   "mimetype": "text/x-python",
   "name": "python",
   "nbconvert_exporter": "python",
   "pygments_lexer": "ipython3",
   "version": "3.12.7"
  }
 },
 "nbformat": 4,
 "nbformat_minor": 5
}
